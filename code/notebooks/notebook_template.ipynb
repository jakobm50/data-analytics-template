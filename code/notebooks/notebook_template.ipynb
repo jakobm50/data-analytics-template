{
 "cells": [
  {
   "cell_type": "markdown",
   "id": "d6d0e839-dfb4-4217-9bcf-e5ba7284af9f",
   "metadata": {},
   "source": [
    "# Project name"
   ]
  },
  {
   "cell_type": "markdown",
   "id": "06328d75-c388-456d-9ae8-6f50fb1a37c3",
   "metadata": {},
   "source": [
    "**Author:** Jakob Malasig\n",
    "**Last modified:** 11-17-2024 (created: 11-13-2024)\n",
    "\n",
    "**Description:** Short paragraph explaining this project."
   ]
  },
  {
   "cell_type": "markdown",
   "id": "0eeb44cd-2018-499b-98da-d96134be10be",
   "metadata": {},
   "source": [
    "<br>"
   ]
  },
  {
   "cell_type": "markdown",
   "id": "abf8e5e4-2164-41d0-98ed-6ca7a5c38e85",
   "metadata": {},
   "source": [
    "Import libraries:"
   ]
  },
  {
   "cell_type": "code",
   "execution_count": 11,
   "id": "2377d286-7429-40f1-8836-d8de901b05c3",
   "metadata": {},
   "outputs": [],
   "source": [
    "import pandas as pd"
   ]
  },
  {
   "cell_type": "markdown",
   "id": "e9cd2cfe-0193-4092-8145-37271fbd0240",
   "metadata": {},
   "source": [
    "<br>"
   ]
  },
  {
   "cell_type": "markdown",
   "id": "cd1aac35-7963-40a9-aee4-7815c3cf8cdd",
   "metadata": {},
   "source": [
    "Load data:"
   ]
  },
  {
   "cell_type": "code",
   "execution_count": 19,
   "id": "4364852c-a970-4e05-9814-b74063c315a4",
   "metadata": {},
   "outputs": [],
   "source": [
    "# code to read csv file"
   ]
  }
 ],
 "metadata": {
  "kernelspec": {
   "display_name": "Python 3 (ipykernel)",
   "language": "python",
   "name": "python3"
  },
  "language_info": {
   "codemirror_mode": {
    "name": "ipython",
    "version": 3
   },
   "file_extension": ".py",
   "mimetype": "text/x-python",
   "name": "python",
   "nbconvert_exporter": "python",
   "pygments_lexer": "ipython3",
   "version": "3.12.2"
  }
 },
 "nbformat": 4,
 "nbformat_minor": 5
}
